{
 "cells": [
  {
   "cell_type": "code",
   "execution_count": 1,
   "id": "b6c6ee68-9a1a-47d2-9e9a-2c4ff72cdd0b",
   "metadata": {},
   "outputs": [],
   "source": [
    "#Imports for data processing\n",
    "import pandas as pd\n",
    "import numpy as np\n",
    "\n",
    "#Imports for visualization\n",
    "import matplotlib.pyplot as plt\n",
    "import seaborn as sns\n",
    "\n",
    "#Imports for machine learning\n",
    "from sklearn.model_selection import train_test_split\n",
    "from sklearn.ensemble import RandomForestRegressor\n",
    "from sklearn.metrics import mean_absolute_error, mean_squared_error, r2_score\n",
    "\n",
    "#Imports for hyperparameters tuning\n",
    "from sklearn.model_selection import GridSearchCV\n",
    "\n",
    "#Imp[orts to save the final model\n",
    "import joblib\n",
    "\n",
    "#Optional import to avoid the warnings\n",
    "import warnings\n",
    "warnings.filterwarnings('ignore')"
   ]
  },
  {
   "cell_type": "code",
   "execution_count": 25,
   "id": "abcbb550-476f-487a-853c-bfd39f37ca59",
   "metadata": {},
   "outputs": [
    {
     "name": "stdout",
     "output_type": "stream",
     "text": [
      "Please enter the type of file you want to use as your data \n",
      " 1.CSV \n",
      " 2.Excel \n",
      " 3.JSON\n"
     ]
    },
    {
     "name": "stdin",
     "output_type": "stream",
     "text": [
      "Enter your choice (number only):  1\n",
      "Plese enter the path of your CSV data file /media/heytanix/SSD2/Python_Projects/Predictive_Modeling_project/Data/BostonHousing.csv\n"
     ]
    }
   ],
   "source": [
    "#Code for the user input so that data type and path is defined.\n",
    "print(\"Please enter the type of file you want to use as your data \\n 1.CSV \\n 2.Excel \\n 3.JSON\")\n",
    "choice=int(input(\"Enter your choice (number only): \"))\n",
    "\n",
    "if choice==1:\n",
    "    path=input(\"Plese enter the path of your CSV data file\")\n",
    "    df=pd.read_csv(path)\n",
    "elif choice==2:\n",
    "    path=input(\"Please enter the path of your Excel data file\")\n",
    "    df=pd.read_excel(path)\n",
    "elif choice==3:\n",
    "    path=input(\"Please enter the path of your JSON data file\")\n",
    "    df=pd.read_json(path)\n",
    "else: print(\"Invalid choice\")"
   ]
  },
  {
   "cell_type": "code",
   "execution_count": 26,
   "id": "20af3dae-14c1-48cf-9dde-bd708e56ff65",
   "metadata": {},
   "outputs": [
    {
     "name": "stdout",
     "output_type": "stream",
     "text": [
      "These are the first few rows of your dataset, please make sure that it has been loaded correctly using this as a reference:\n",
      "      crim    zn  indus  chas    nox     rm   age     dis  rad  tax  ptratio  \\\n",
      "0  0.00632  18.0   2.31     0  0.538  6.575  65.2  4.0900    1  296     15.3   \n",
      "1  0.02731   0.0   7.07     0  0.469  6.421  78.9  4.9671    2  242     17.8   \n",
      "2  0.02729   0.0   7.07     0  0.469  7.185  61.1  4.9671    2  242     17.8   \n",
      "3  0.03237   0.0   2.18     0  0.458  6.998  45.8  6.0622    3  222     18.7   \n",
      "4  0.06905   0.0   2.18     0  0.458  7.147  54.2  6.0622    3  222     18.7   \n",
      "\n",
      "        b  lstat  medv  \n",
      "0  396.90   4.98  24.0  \n",
      "1  396.90   9.14  21.6  \n",
      "2  392.83   4.03  34.7  \n",
      "3  394.63   2.94  33.4  \n",
      "4  396.90   5.33  36.2  \n"
     ]
    }
   ],
   "source": [
    "#For displaying the first few rows of the dataset to ensure it has been loaded correctly\n",
    "print(\"These are the first few rows of the data-set you inserted, please make sure that it has been loaded correctly using this as a reference:\")\n",
    "print(df.head())\n"
   ]
  },
  {
   "cell_type": "code",
   "execution_count": 27,
   "id": "40b7052f-b5b4-450f-9d7c-c814f049b115",
   "metadata": {},
   "outputs": [
    {
     "name": "stdout",
     "output_type": "stream",
     "text": [
      "<class 'pandas.core.frame.DataFrame'>\n",
      "RangeIndex: 506 entries, 0 to 505\n",
      "Data columns (total 14 columns):\n",
      " #   Column   Non-Null Count  Dtype  \n",
      "---  ------   --------------  -----  \n",
      " 0   crim     506 non-null    float64\n",
      " 1   zn       506 non-null    float64\n",
      " 2   indus    506 non-null    float64\n",
      " 3   chas     506 non-null    int64  \n",
      " 4   nox      506 non-null    float64\n",
      " 5   rm       506 non-null    float64\n",
      " 6   age      506 non-null    float64\n",
      " 7   dis      506 non-null    float64\n",
      " 8   rad      506 non-null    int64  \n",
      " 9   tax      506 non-null    int64  \n",
      " 10  ptratio  506 non-null    float64\n",
      " 11  b        506 non-null    float64\n",
      " 12  lstat    506 non-null    float64\n",
      " 13  medv     506 non-null    float64\n",
      "dtypes: float64(11), int64(3)\n",
      "memory usage: 55.5 KB\n",
      "None\n",
      "             crim          zn       indus        chas         nox          rm  \\\n",
      "count  506.000000  506.000000  506.000000  506.000000  506.000000  506.000000   \n",
      "mean     3.613524   11.363636   11.136779    0.069170    0.554695    6.284634   \n",
      "std      8.601545   23.322453    6.860353    0.253994    0.115878    0.702617   \n",
      "min      0.006320    0.000000    0.460000    0.000000    0.385000    3.561000   \n",
      "25%      0.082045    0.000000    5.190000    0.000000    0.449000    5.885500   \n",
      "50%      0.256510    0.000000    9.690000    0.000000    0.538000    6.208500   \n",
      "75%      3.677083   12.500000   18.100000    0.000000    0.624000    6.623500   \n",
      "max     88.976200  100.000000   27.740000    1.000000    0.871000    8.780000   \n",
      "\n",
      "              age         dis         rad         tax     ptratio           b  \\\n",
      "count  506.000000  506.000000  506.000000  506.000000  506.000000  506.000000   \n",
      "mean    68.574901    3.795043    9.549407  408.237154   18.455534  356.674032   \n",
      "std     28.148861    2.105710    8.707259  168.537116    2.164946   91.294864   \n",
      "min      2.900000    1.129600    1.000000  187.000000   12.600000    0.320000   \n",
      "25%     45.025000    2.100175    4.000000  279.000000   17.400000  375.377500   \n",
      "50%     77.500000    3.207450    5.000000  330.000000   19.050000  391.440000   \n",
      "75%     94.075000    5.188425   24.000000  666.000000   20.200000  396.225000   \n",
      "max    100.000000   12.126500   24.000000  711.000000   22.000000  396.900000   \n",
      "\n",
      "            lstat        medv  \n",
      "count  506.000000  506.000000  \n",
      "mean    12.653063   22.532806  \n",
      "std      7.141062    9.197104  \n",
      "min      1.730000    5.000000  \n",
      "25%      6.950000   17.025000  \n",
      "50%     11.360000   21.200000  \n",
      "75%     16.955000   25.000000  \n",
      "max     37.970000   50.000000  \n",
      "crim       0\n",
      "zn         0\n",
      "indus      0\n",
      "chas       0\n",
      "nox        0\n",
      "rm         0\n",
      "age        0\n",
      "dis        0\n",
      "rad        0\n",
      "tax        0\n",
      "ptratio    0\n",
      "b          0\n",
      "lstat      0\n",
      "medv       0\n",
      "dtype: int64\n"
     ]
    }
   ],
   "source": [
    "#Giving basic information about the provided dataset\n",
    "print(df.info())\n",
    "\n",
    "#Giving statistical summary of the provided datase\n",
    "print(df.describe())\n",
    "\n",
    "#Checking for missing values within the dataset\n",
    "print(df.isnull().sum())\n"
   ]
  },
  {
   "cell_type": "code",
   "execution_count": 28,
   "id": "c73be6f1-1c60-472d-b739-0233aeaedd87",
   "metadata": {},
   "outputs": [],
   "source": [
    "#Median method - for eliminating missing values within the provided dataset\n",
    "df.fillna(df.median(),inplace=True)"
   ]
  },
  {
   "cell_type": "code",
   "execution_count": 29,
   "id": "4679c328-8cfc-4050-9a5f-23f7f3e09c06",
   "metadata": {},
   "outputs": [
    {
     "name": "stdout",
     "output_type": "stream",
     "text": [
      "crim       0\n",
      "zn         0\n",
      "indus      0\n",
      "chas       0\n",
      "nox        0\n",
      "rm         0\n",
      "age        0\n",
      "dis        0\n",
      "rad        0\n",
      "tax        0\n",
      "ptratio    0\n",
      "b          0\n",
      "lstat      0\n",
      "medv       0\n",
      "dtype: int64\n"
     ]
    }
   ],
   "source": [
    "#Simply to check if the missing values have been resolved\n",
    "print(df.isnull().sum())"
   ]
  },
  {
   "cell_type": "code",
   "execution_count": 30,
   "id": "0e587aa5-3df4-4ef1-b79c-f2106ffd5876",
   "metadata": {},
   "outputs": [],
   "source": [
    "#Method to change categorical variables into numerical values\n",
    "df=pd.get_dummies(df,drop_first=True)"
   ]
  },
  {
   "cell_type": "code",
   "execution_count": 32,
   "id": "b7dab0c1-e2f7-44f8-a170-7e4f62d71b5d",
   "metadata": {},
   "outputs": [
    {
     "name": "stdout",
     "output_type": "stream",
     "text": [
      "Please select the target variable (y) and the features (X) to use for the model.\n",
      "Available columns:  Index(['crim', 'zn', 'indus', 'chas', 'nox', 'rm', 'age', 'dis', 'rad', 'tax',\n",
      "       'ptratio', 'b', 'lstat', 'medv'],\n",
      "      dtype='object')\n"
     ]
    },
    {
     "name": "stdin",
     "output_type": "stream",
     "text": [
      "Enter the target variable (y):  tax\n",
      "Enter the features (X) to use, separated by commas:  age,rad\n"
     ]
    }
   ],
   "source": [
    "from sklearn.preprocessing import StandardScaler\n",
    "\n",
    "#Initializing a scaler\n",
    "scaler=StandardScaler()\n",
    "\n",
    "#Ask user for calculative parameters (THis method helps for different datas)\n",
    "print(\"Please select the target variable (y) and the features (X) to use for the model.\")\n",
    "print(\"Available columns: \",df.columns)\n",
    "\n",
    "while True:\n",
    "    tar_var=input(\"Enter the target variable (y): \")\n",
    "    if tar_var in df.columns:\n",
    "        break\n",
    "    else:\n",
    "        print(\"Invalid column name, Please try again.\")\n",
    "\n",
    "while True:\n",
    "    features=input(\"Enter the features (X) to use, separated by commas: \")\n",
    "    ft_lst=[feature.strip() for feature in features.split(\",\")]\n",
    "    if all(feature in df.columns for feature in ft_lst):\n",
    "        break\n",
    "    else:\n",
    "        print(\"Invalid column name(s). Please try again.\")\n",
    "\n",
    "#Assigning the target variable and features\n",
    "y=df[tar_var]\n",
    "X=df[ft_lst]\n",
    "\n",
    "#For sacling the features\n",
    "X_scaled=scaler.fit_transform(X)"
   ]
  },
  {
   "cell_type": "code",
   "execution_count": 33,
   "id": "f97dec65-4510-478d-937f-05029749050c",
   "metadata": {},
   "outputs": [
    {
     "name": "stdout",
     "output_type": "stream",
     "text": [
      "Training data shape: (404, 2)\n",
      "Testing data shape: (102, 2)\n"
     ]
    }
   ],
   "source": [
    "# Split the data (80% training, 20% testing)\n",
    "X_train, X_test, y_train, y_test=train_test_split(X, y, test_size=0.2, random_state=42)\n",
    "\n",
    "# Verify the shapes of the splits\n",
    "print(f\"Training data shape: {X_train.shape}\")\n",
    "print(f\"Testing data shape: {X_test.shape}\")"
   ]
  },
  {
   "cell_type": "code",
   "execution_count": 34,
   "id": "0bf0e7bd-e888-404c-a448-afde791c72f1",
   "metadata": {},
   "outputs": [],
   "source": [
    "# Initialize the model\n",
    "model=RandomForestRegressor(random_state=42)\n",
    "\n",
    "# Train the model\n",
    "model.fit(X_train,y_train)\n",
    "\n",
    "# Predict on the test set\n",
    "y_pred=model.predict(X_test)"
   ]
  },
  {
   "cell_type": "code",
   "execution_count": 35,
   "id": "3bc683ef-1bc3-4da4-bdfd-78e76f75ed35",
   "metadata": {},
   "outputs": [
    {
     "name": "stdout",
     "output_type": "stream",
     "text": [
      "Mean Absolute Error: 44.668480323501946\n",
      "Mean Squared Error: 5419.088710397657\n",
      "R² Score: 0.8262231156604798\n"
     ]
    }
   ],
   "source": [
    "# Evaluate the model\n",
    "mae=mean_absolute_error(y_test,y_pred)\n",
    "mse=mean_squared_error(y_test,y_pred)\n",
    "r2=r2_score(y_test,y_pred)\n",
    "\n",
    "print(f\"Mean Absolute Error: {mae}\")\n",
    "print(f\"Mean Squared Error: {mse}\")\n",
    "print(f\"R² Score: {r2}\")"
   ]
  },
  {
   "cell_type": "code",
   "execution_count": 42,
   "id": "78c42f39-de0a-40ad-86b3-eee1b3836f99",
   "metadata": {},
   "outputs": [
    {
     "name": "stdout",
     "output_type": "stream",
     "text": [
      "Fitting 3 folds for each of 81 candidates, totalling 243 fits\n",
      "Best Hyperparameters:  {'max_depth': 10, 'min_samples_leaf': 2, 'min_samples_split': 10, 'n_estimators': 100}\n"
     ]
    }
   ],
   "source": [
    "from sklearn.model_selection import GridSearchCV\n",
    "\n",
    "# Define the parameter grid to search over (you can adjust these hyperparameters as needed)\n",
    "para_grd={\n",
    "    'n_estimators': [100, 200, 300],           # Number of trees in the forest\n",
    "    'max_depth': [10, 20, None],               # Maximum depth of the tree\n",
    "    'min_samples_split': [2, 5, 10],           # Minimum number of samples required to split a node\n",
    "    'min_samples_leaf': [1, 2, 4],             # Minimum number of samples required to be at a leaf node\n",
    "}\n",
    "\n",
    "# Initialize the RandomForest model\n",
    "rf_model=RandomForestRegressor(random_state=42)\n",
    "\n",
    "# Initialize the GridSearchCV\n",
    "grid_search=GridSearchCV(estimator=rf_model,para_grd=para_grd,cv=3,scoring='r2',n_jobs=-1,verbose=2)\n",
    "\n",
    "# Fit GridSearchCV to the data\n",
    "grid_search.fit(X_train,y_train)\n",
    "\n",
    "# Best hyperparameters\n",
    "print(\"Best Hyperparameters: \",grid_search.best_params_)\n",
    "\n",
    "# Get the best estimator (model with best parameters)\n",
    "bst_mdl=grid_search.best_estimator_"
   ]
  },
  {
   "cell_type": "code",
   "execution_count": 48,
   "id": "f5ef328f-7133-4c7a-9ae0-4cf26224727f",
   "metadata": {},
   "outputs": [
    {
     "name": "stdout",
     "output_type": "stream",
     "text": [
      "Please select the target variable (y) and the features (X) to use for the model.\n",
      "Available columns:  Index(['crim', 'zn', 'indus', 'chas', 'nox', 'rm', 'age', 'dis', 'rad', 'tax',\n",
      "       'ptratio', 'b', 'lstat', 'medv'],\n",
      "      dtype='object')\n"
     ]
    },
    {
     "name": "stdin",
     "output_type": "stream",
     "text": [
      "Enter the target variable (y):  tax\n",
      "Enter the features (X) to use, separated by commas:  age,rad\n"
     ]
    },
    {
     "data": {
      "image/png": "[encoded data removed]",
      "text/plain": [
       "<Figure size 1000x600 with 1 Axes>"
      ]
     },
     "metadata": {},
     "output_type": "display_data"
    }
   ],
   "source": [
    "from sklearn.preprocessing import StandardScaler\n",
    "\n",
    "# Initialize a scaler\n",
    "scaler=StandardScaler()\n",
    "\n",
    "# Ask the user what to calculate over what\n",
    "print(\"Please select the target variable (y) and the features (X) to use for the model.\")\n",
    "print(\"Available columns: \", df.columns)\n",
    "\n",
    "while True:\n",
    "    tar_var=input(\"Enter the target variable (y): \")\n",
    "    if tar_var in df.columns:\n",
    "        break\n",
    "    else:\n",
    "        print(\"Invalid column name. Please try again.\")\n",
    "\n",
    "while True:\n",
    "    features=input(\"Enter the features (X) to use, separated by commas: \")\n",
    "    ft_lst=[feature.strip() for feature in features.split(\",\")]\n",
    "    if all(feature in df.columns for feature in ft_lst):\n",
    "        break\n",
    "    else:\n",
    "        print(\"Invalid column name(s). Please try again.\")\n",
    "\n",
    "# Assign the target variable and features\n",
    "y=df[tar_var]\n",
    "X=df[ft_lst]\n",
    "\n",
    "# Scale the features\n",
    "X_scaled=scaler.fit_transform(X)\n",
    "\n",
    "# Plot the feature importances\n",
    "plt.figure(figsize=(10, 6))\n",
    "sns.barplot(x='Importance', y='Feature', data=feature_importance_df, palette='viridis')\n",
    "plt.title('Feature Importance')\n",
    "plt.show()"
   ]
  },
  {
   "cell_type": "code",
   "execution_count": 51,
   "id": "4d5f7365-38ee-42fd-b2eb-3b1ee0202aee",
   "metadata": {},
   "outputs": [
    {
     "data": {
      "image/png": "[encoded data removed]",
      "text/plain": [
       "<Figure size 800x600 with 1 Axes>"
      ]
     },
     "metadata": {},
     "output_type": "display_data"
    }
   ],
   "source": [
    "# Calculate the errors\n",
    "errs=y_test-y_pred\n",
    "\n",
    "# Create a categorical variable to differentiate in the histogram\n",
    "err_typ=['Underestimation' if error<0 else 'Overestimation' for error in errs]\n",
    "\n",
    "# Plot the distribution of errors\n",
    "plt.figure(figsize=(8,6))\n",
    "sns.histplot(x=errs,hue=err_typ,multiple='dodge',palette=['blue','red'])\n",
    "plt.title('Error Distribution')\n",
    "plt.xlabel('Prediction Error')\n",
    "plt.show()"
   ]
  },
  {
   "cell_type": "code",
   "execution_count": 39,
   "id": "c63ea1f5-3040-45a7-a37c-48be4bda225d",
   "metadata": {},
   "outputs": [
    {
     "data": {
      "text/plain": [
       "['first_prediction_model.pkl']"
      ]
     },
     "execution_count": 39,
     "metadata": {},
     "output_type": "execute_result"
    }
   ],
   "source": [
    "import joblib\n",
    "\n",
    "# Save the best model to a file\n",
    "joblib.dump(bst_mdl,'first_prediction_model.pkl')"
   ]
  },
  {
   "cell_type": "code",
   "execution_count": 40,
   "id": "cee36372-619a-4179-9893-33abb431d167",
   "metadata": {},
   "outputs": [],
   "source": [
    "# To load the saved model later\n",
    "loadedmodel=joblib.load('first_prediction_model.pkl')"
   ]
  },
  {
   "cell_type": "code",
   "execution_count": null,
   "id": "9eb63656-fc96-4053-8fdb-f61a02493b85",
   "metadata": {},
   "outputs": [],
   "source": []
  }
 ],
 "metadata": {
  "kernelspec": {
   "display_name": "Python 3 (ipykernel)",
   "language": "python",
   "name": "python3"
  },
  "language_info": {
   "codemirror_mode": {
    "name": "ipython",
    "version": 3
   },
   "file_extension": ".py",
   "mimetype": "text/x-python",
   "name": "python",
   "nbconvert_exporter": "python",
   "pygments_lexer": "ipython3",
   "version": "3.12.3"
  }
 },
 "nbformat": 4,
 "nbformat_minor": 5
}
